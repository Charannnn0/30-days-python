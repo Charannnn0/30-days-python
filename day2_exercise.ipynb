{
 "cells": [
  {
   "cell_type": "markdown",
   "metadata": {},
   "source": [
    "### **Tasks and Coding Exercises**\n",
    "\n",
    "1. Create a variable called `name` and assign it your name. Print a message saying \"Hello, [name]!\" using an f-string.\n",
    "2. Declare two variables, `x` and `y`, with values 20 and 4, respectively. Calculate their sum, difference, product, and quotient.\n",
    "3. Write a Python program that asks the user for their age and checks if they are eligible to vote (age >= 18).\n",
    "4. Create a variable `pi` with the value 3.14159. Use it to calculate and print the area of a circle with radius 7.\n",
    "5. Write a program that takes two numbers from the user and prints whether the first number is greater than, less than, or equal to the second number.\n",
    "6. Declare a Boolean variable called `is_raining` and set it to `True` or `False`. Use it to print \"Take an umbrella\" if it is raining, otherwise print \"Enjoy the sunshine\".\n",
    "7. Write a Python program that takes two numbers from the user and prints the result of their division. Make sure to handle the case when the second number is zero.\n",
    "8. Write a Python program that converts Celsius to Fahrenheit. Formula: `F = (C * 9/5) + 32`.\n",
    "9. Create a Python program that takes a number from the user and checks whether it is even or odd.\n",
    "10. Write a program that takes a string from the user and prints whether it is a palindrome (the same forwards and backwards)."
   ]
  },
  {
   "cell_type": "code",
   "execution_count": 3,
   "metadata": {},
   "outputs": [
    {
     "name": "stdout",
     "output_type": "stream",
     "text": [
      "Hello, charan!\n"
     ]
    }
   ],
   "source": [
    "#1\n",
    "name=input('Enter your name')\n",
    "print(f\"Hello, {name}!\")"
   ]
  },
  {
   "cell_type": "code",
   "execution_count": 5,
   "metadata": {},
   "outputs": [
    {
     "name": "stdout",
     "output_type": "stream",
     "text": [
      "24\n",
      "16\n",
      "80\n",
      "5.0\n",
      "0\n"
     ]
    }
   ],
   "source": [
    "#2\n",
    "a=20\n",
    "b=4\n",
    "print(a+b)\n",
    "print(a-b)\n",
    "print(a*b)\n",
    "print(a/b)\n",
    "print(a%b)"
   ]
  },
  {
   "cell_type": "code",
   "execution_count": 7,
   "metadata": {},
   "outputs": [
    {
     "name": "stdout",
     "output_type": "stream",
     "text": [
      "You are not eligible to vote\n"
     ]
    }
   ],
   "source": [
    "#3\n",
    "age=int(input(\"Enter your age\"))\n",
    "if age<18:\n",
    "    print(\"You are not eligible to vote\")\n",
    "else:\n",
    "    print(\"you are eligible to vote\")"
   ]
  },
  {
   "cell_type": "code",
   "execution_count": 8,
   "metadata": {},
   "outputs": [
    {
     "name": "stdout",
     "output_type": "stream",
     "text": [
      "15.70795\n"
     ]
    }
   ],
   "source": [
    "#4\n",
    "pi=3.14159\n",
    "radius=float(input(\"Enter radius of the circle\"))\n",
    "print(pi*radius)"
   ]
  },
  {
   "cell_type": "code",
   "execution_count": 13,
   "metadata": {},
   "outputs": [
    {
     "name": "stdout",
     "output_type": "stream",
     "text": [
      "22is greater than 21\n"
     ]
    }
   ],
   "source": [
    "#5\n",
    "a=int(input(\"enter number A :\"))\n",
    "b=int(input(\"enter number B :\"))\n",
    "if a>b:\n",
    "    print(f\"{a} is greater than {b}\")\n",
    "elif a<b:\n",
    "    print(f\"{a} is less than {b}\")\n",
    "else:\n",
    "    print(f\"{a} is equal to {b}\")"
   ]
  },
  {
   "cell_type": "code",
   "execution_count": 14,
   "metadata": {},
   "outputs": [
    {
     "name": "stdout",
     "output_type": "stream",
     "text": [
      "55 is odd number\n"
     ]
    }
   ],
   "source": [
    "#9\n",
    "number=int(input(\"Enter a number\"))\n",
    "if number%2==0:\n",
    "    print(f\"{number} is even number\")\n",
    "else:\n",
    "    print(f\"{number} is odd number\")"
   ]
  },
  {
   "cell_type": "code",
   "execution_count": 15,
   "metadata": {},
   "outputs": [
    {
     "name": "stdout",
     "output_type": "stream",
     "text": [
      "86.9 is the temperature in farenheit\n"
     ]
    }
   ],
   "source": [
    "#8\n",
    "temp=float(input(\"Enter the temperature to be converted:\"))\n",
    "farenheit= temp*9/5 +32\n",
    "print(f\"{farenheit} is the temperature in farenheit\")"
   ]
  },
  {
   "cell_type": "code",
   "execution_count": 17,
   "metadata": {},
   "outputs": [
    {
     "name": "stdout",
     "output_type": "stream",
     "text": [
      "5.0\n"
     ]
    }
   ],
   "source": [
    "#7\n",
    "a=int(input(\"Enter a number:\"))\n",
    "b=int(input(\"Enter another nnumber:\"))\n",
    "if b==0:\n",
    "    print(\"Undefined\")\n",
    "else:\n",
    "    print(a/b)"
   ]
  }
 ],
 "metadata": {
  "kernelspec": {
   "display_name": "my_venv",
   "language": "python",
   "name": "python3"
  },
  "language_info": {
   "codemirror_mode": {
    "name": "ipython",
    "version": 3
   },
   "file_extension": ".py",
   "mimetype": "text/x-python",
   "name": "python",
   "nbconvert_exporter": "python",
   "pygments_lexer": "ipython3",
   "version": "3.12.6"
  }
 },
 "nbformat": 4,
 "nbformat_minor": 2
}
